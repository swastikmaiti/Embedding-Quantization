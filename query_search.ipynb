{
 "cells": [
  {
   "cell_type": "code",
   "execution_count": null,
   "metadata": {},
   "outputs": [],
   "source": []
  },
  {
   "cell_type": "code",
   "execution_count": null,
   "metadata": {},
   "outputs": [],
   "source": []
  },
  {
   "cell_type": "markdown",
   "metadata": {},
   "source": [
    "# Import Libraries"
   ]
  },
  {
   "cell_type": "code",
   "execution_count": 1,
   "metadata": {},
   "outputs": [
    {
     "name": "stderr",
     "output_type": "stream",
     "text": [
      "/home/codespace/.local/lib/python3.10/site-packages/tqdm/auto.py:21: TqdmWarning: IProgress not found. Please update jupyter and ipywidgets. See https://ipywidgets.readthedocs.io/en/stable/user_install.html\n",
      "  from .autonotebook import tqdm as notebook_tqdm\n"
     ]
    }
   ],
   "source": [
    "import time\n",
    "from datasets import load_from_disk\n",
    "import pandas as pd\n",
    "from sentence_transformers import SentenceTransformer\n",
    "from sentence_transformers.quantization import quantize_embeddings\n",
    "import faiss\n",
    "from usearch.index import Index"
   ]
  },
  {
   "cell_type": "markdown",
   "metadata": {},
   "source": [
    "# Load Dataset"
   ]
  },
  {
   "cell_type": "code",
   "execution_count": 2,
   "metadata": {},
   "outputs": [],
   "source": [
    "medical_dataset = load_from_disk(\"/workspaces/senetence-transformer-in-action/medical_terms\")"
   ]
  },
  {
   "cell_type": "markdown",
   "metadata": {},
   "source": [
    "```Text\n",
    "Load the int8 and binary indices. Int8 is loaded as a view to save memory, as we never actually perform search with it.\n",
    "Int8 embedding is required to perform rescoring of fetched document. This is done bt performing inner product with F32 embedding of Query\n",
    "```\n",
    "[Efficient Passage Retrieval with Hashing for Open-domain Question Answering](https://arxiv.org/abs/2106.00882)"
   ]
  },
  {
   "cell_type": "code",
   "execution_count": 3,
   "metadata": {},
   "outputs": [],
   "source": [
    "# Load the int8 and binary indices. Int8 is loaded as a view to save memory, as we never actually perform search with it.\n",
    "int8_view = Index.restore(\"/workspaces/senetence-transformer-in-action/medicine_details_int8_usearch.index\", view=True)\n",
    "binary_index: faiss.IndexBinaryFlat = faiss.read_index_binary(\"/workspaces/senetence-transformer-in-action/medicine_details.index\")"
   ]
  },
  {
   "cell_type": "markdown",
   "metadata": {},
   "source": [
    "# Import Model to generate embedding"
   ]
  },
  {
   "cell_type": "code",
   "execution_count": 4,
   "metadata": {},
   "outputs": [
    {
     "name": "stderr",
     "output_type": "stream",
     "text": [
      "Default prompt name is set to 'retrieval'. This prompt will be applied to all `encode()` calls, except if `encode()` is called with `prompt` or `prompt_name` parameters.\n"
     ]
    }
   ],
   "source": [
    "model = SentenceTransformer(\n",
    "    \"mixedbread-ai/mxbai-embed-large-v1\",\n",
    "    prompts={\n",
    "        \"retrieval\": \"Represent this sentence for searching relevant passages: \",\n",
    "    },\n",
    "    default_prompt_name=\"retrieval\",\n",
    ")\n"
   ]
  },
  {
   "cell_type": "code",
   "execution_count": 5,
   "metadata": {},
   "outputs": [],
   "source": [
    "def search(query, top_k: int = 5):\n",
    "    # 1. Embed the query as float32\n",
    "    query_embedding = model.encode(query)\n",
    "\n",
    "    # 2. Quantize the query to ubinary. To perform actual search with faiss\n",
    "    query_embedding_ubinary = quantize_embeddings(query_embedding.reshape(1, -1), \"ubinary\")\n",
    "\n",
    "\n",
    "    # 3. Search the binary index \n",
    "    index =  binary_index\n",
    "    _scores, binary_ids = index.search(query_embedding_ubinary, top_k)\n",
    "    binary_ids = binary_ids[0]\n",
    "\n",
    "\n",
    "    # 4. Load the corresponding int8 embeddings. To perform rescoring to calculate score of fetched documents.\n",
    "    int8_embeddings = int8_view[binary_ids].astype(int)\n",
    "\n",
    "    # 5. Rescore the top_k * rescore_multiplier using the float32 query embedding and the int8 document embeddings\n",
    "    scores = query_embedding @ int8_embeddings.T\n",
    "\n",
    "    # 6. Sort the scores and return the top_k\n",
    "    start_time = time.time()\n",
    "    indices = scores.argsort()[::-1][:top_k]\n",
    "    top_k_indices = binary_ids[indices]\n",
    "    top_k_scores = scores[indices]\n",
    "    top_k_Medicine_Name, top_k_Composition,top_k_Uses,top_k_Side_effects = zip(\n",
    "        *[(medical_dataset[idx][\"Medicine Name\"], medical_dataset[idx][\"Composition\"],\n",
    "           medical_dataset[idx][\"Uses\"], medical_dataset[idx][\"Side_effects\"]) for idx in top_k_indices.tolist()]\n",
    "    )\n",
    "    df = pd.DataFrame(\n",
    "        {\"Score\": [round(value, 2) for value in top_k_scores], \"Medicine_Name\": top_k_Medicine_Name, \"Composition\": top_k_Composition,\n",
    "                                                                \"Uses\": top_k_Uses, \"Side_effects\": top_k_Side_effects}\n",
    "    )\n",
    "\n",
    "    return df\n"
   ]
  },
  {
   "cell_type": "code",
   "execution_count": 6,
   "metadata": {},
   "outputs": [
    {
     "data": {
      "text/html": [
       "<div>\n",
       "<style scoped>\n",
       "    .dataframe tbody tr th:only-of-type {\n",
       "        vertical-align: middle;\n",
       "    }\n",
       "\n",
       "    .dataframe tbody tr th {\n",
       "        vertical-align: top;\n",
       "    }\n",
       "\n",
       "    .dataframe thead th {\n",
       "        text-align: right;\n",
       "    }\n",
       "</style>\n",
       "<table border=\"1\" class=\"dataframe\">\n",
       "  <thead>\n",
       "    <tr style=\"text-align: right;\">\n",
       "      <th></th>\n",
       "      <th>Score</th>\n",
       "      <th>Medicine_Name</th>\n",
       "      <th>Composition</th>\n",
       "      <th>Uses</th>\n",
       "      <th>Side_effects</th>\n",
       "    </tr>\n",
       "  </thead>\n",
       "  <tbody>\n",
       "    <tr>\n",
       "      <th>0</th>\n",
       "      <td>3835.73</td>\n",
       "      <td>Redotil 100mg Capsule</td>\n",
       "      <td>Racecadotril (100mg)</td>\n",
       "      <td>Treatment of Diarrhea</td>\n",
       "      <td>Vomiting Dizziness General discomfort Headache</td>\n",
       "    </tr>\n",
       "    <tr>\n",
       "      <th>1</th>\n",
       "      <td>3784.72</td>\n",
       "      <td>Sinus 77 Tablet</td>\n",
       "      <td>Caffeine (15mg) + Chlorpheniramine Maleate (4m...</td>\n",
       "      <td>Treatment of Common cold</td>\n",
       "      <td>Nausea Insomnia difficulty in sleeping Restles...</td>\n",
       "    </tr>\n",
       "    <tr>\n",
       "      <th>2</th>\n",
       "      <td>3215.35</td>\n",
       "      <td>Mesalo OD Tablet</td>\n",
       "      <td>Mesalazine (1200mg)</td>\n",
       "      <td>Ulcerative colitis Crohn’s disease</td>\n",
       "      <td>Stomach pain epigastric pain Flatulence Headac...</td>\n",
       "    </tr>\n",
       "    <tr>\n",
       "      <th>3</th>\n",
       "      <td>3010.67</td>\n",
       "      <td>L-Cin Syrup</td>\n",
       "      <td>Levofloxacin (125mg)</td>\n",
       "      <td>Treatment of Bacterial infections</td>\n",
       "      <td>Headache Dizziness Nausea Constipation Diarrhea</td>\n",
       "    </tr>\n",
       "    <tr>\n",
       "      <th>4</th>\n",
       "      <td>2812.04</td>\n",
       "      <td>Anleo-DSR Capsule</td>\n",
       "      <td>Domperidone (30mg) + Pantoprazole (40mg)</td>\n",
       "      <td>Treatment of Gastroesophageal reflux disease (...</td>\n",
       "      <td>Diarrhea Stomach pain Flatulence Dryness in mo...</td>\n",
       "    </tr>\n",
       "  </tbody>\n",
       "</table>\n",
       "</div>"
      ],
      "text/plain": [
       "     Score          Medicine_Name  \\\n",
       "0  3835.73  Redotil 100mg Capsule   \n",
       "1  3784.72        Sinus 77 Tablet   \n",
       "2  3215.35       Mesalo OD Tablet   \n",
       "3  3010.67            L-Cin Syrup   \n",
       "4  2812.04      Anleo-DSR Capsule   \n",
       "\n",
       "                                         Composition  \\\n",
       "0                               Racecadotril (100mg)   \n",
       "1  Caffeine (15mg) + Chlorpheniramine Maleate (4m...   \n",
       "2                                Mesalazine (1200mg)   \n",
       "3                               Levofloxacin (125mg)   \n",
       "4           Domperidone (30mg) + Pantoprazole (40mg)   \n",
       "\n",
       "                                                Uses  \\\n",
       "0                              Treatment of Diarrhea   \n",
       "1                           Treatment of Common cold   \n",
       "2                 Ulcerative colitis Crohn’s disease   \n",
       "3                  Treatment of Bacterial infections   \n",
       "4  Treatment of Gastroesophageal reflux disease (...   \n",
       "\n",
       "                                        Side_effects  \n",
       "0     Vomiting Dizziness General discomfort Headache  \n",
       "1  Nausea Insomnia difficulty in sleeping Restles...  \n",
       "2  Stomach pain epigastric pain Flatulence Headac...  \n",
       "3    Headache Dizziness Nausea Constipation Diarrhea  \n",
       "4  Diarrhea Stomach pain Flatulence Dryness in mo...  "
      ]
     },
     "execution_count": 6,
     "metadata": {},
     "output_type": "execute_result"
    }
   ],
   "source": [
    "search('Dizziness Back pain Sinus infection Diarrhea')"
   ]
  },
  {
   "cell_type": "code",
   "execution_count": null,
   "metadata": {},
   "outputs": [],
   "source": []
  },
  {
   "cell_type": "code",
   "execution_count": null,
   "metadata": {},
   "outputs": [],
   "source": []
  },
  {
   "cell_type": "code",
   "execution_count": null,
   "metadata": {},
   "outputs": [],
   "source": []
  },
  {
   "cell_type": "code",
   "execution_count": null,
   "metadata": {},
   "outputs": [],
   "source": []
  },
  {
   "cell_type": "code",
   "execution_count": null,
   "metadata": {},
   "outputs": [],
   "source": []
  }
 ],
 "metadata": {
  "kernelspec": {
   "display_name": "Python 3",
   "language": "python",
   "name": "python3"
  },
  "language_info": {
   "codemirror_mode": {
    "name": "ipython",
    "version": 3
   },
   "file_extension": ".py",
   "mimetype": "text/x-python",
   "name": "python",
   "nbconvert_exporter": "python",
   "pygments_lexer": "ipython3",
   "version": "3.10.13"
  }
 },
 "nbformat": 4,
 "nbformat_minor": 2
}
